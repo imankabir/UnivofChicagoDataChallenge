{
 "cells": [
  {
   "cell_type": "markdown",
   "metadata": {},
   "source": [
    "# Data Challenge for Univ of Chicago Research Position"
   ]
  },
  {
   "cell_type": "code",
   "execution_count": 8,
   "metadata": {},
   "outputs": [],
   "source": [
    "import pandas as pd\n",
    "import PIL\n",
    "from PIL import Image \n",
    "import pytesseract \n",
    "import sys \n",
    "from pdf2image import convert_from_path \n",
    "import os\n",
    "import csv,math\n",
    "import matplotlib.pyplot as plt"
   ]
  },
  {
   "cell_type": "markdown",
   "metadata": {},
   "source": [
    "# Task 1"
   ]
  },
  {
   "cell_type": "code",
   "execution_count": 14,
   "metadata": {},
   "outputs": [],
   "source": [
    "def extract_data(file):\n",
    "    fname = file+\".pdf\"\n",
    "    pages = convert_from_path(fname,500)\n",
    "    image_counter = 1\n",
    "    for page in pages:\n",
    "        filename = \"page_\"+str(image_counter)+\".jpg\"\n",
    "        page.save(filename,'JPEG')\n",
    "        image_counter=image_counter+1\n",
    "    filelimit=image_counter-1\n",
    "    outputfile = file+\".txt\"\n",
    "    f = open(outputfile,\"a\")\n",
    "    for i in range(1,filelimit+1):\n",
    "        filename=\"page_\"+str(i)+\".jpg\"\n",
    "        text = str(((pytesseract.image_to_string(Image.open(filename)))))\n",
    "        text = text.replace('-/n',\"\")\n",
    "        f.write(text)\n",
    "    f.close()    "
   ]
  },
  {
   "cell_type": "code",
   "execution_count": 24,
   "metadata": {},
   "outputs": [],
   "source": [
    "def get_news_sites(txt_file,header):\n",
    "    file = open(txt_file)\n",
    "    websites = []\n",
    "    with open(\"all_sites.csv\",mode=\"a\") as all_csv:\n",
    "        all_csv_writer = csv.writer(all_csv,delimiter=\",\")\n",
    "        if header == 1:\n",
    "            all_csv_writer.writerow([\"file_name\",\"website\"])\n",
    "    \n",
    "        for line in file.readlines():\n",
    "            line = line.split()\n",
    "            for word in line:\n",
    "                if \".com\" in word and \"@\" not in word:\n",
    "                    websites.append(word)\n",
    "                    all_csv_writer.writerow([txt_file,word])\n",
    "    #### NEWS SITES\n",
    "    key_news = [\"media\",\"news\",\"reports\",\"daily\",\"post\",\"gazette\"]\n",
    "    news_sites = []\n",
    "    with open(\"news_sites_output.csv\",mode=\"a\") as news_csv_file:\n",
    "        news_csv = csv.writer(news_csv_file,delimiter=\",\")\n",
    "        if header == 1:\n",
    "            news_csv.writerow([\"file_name\",\"website\"])\n",
    "        for website in websites:\n",
    "            for key in key_news:\n",
    "                if key in website:\n",
    "                    news_csv.writerow([txt_file,website])"
   ]
  },
  {
   "cell_type": "markdown",
   "metadata": {},
   "source": [
    "### \"Domains (Name.com).pdf\""
   ]
  },
  {
   "cell_type": "code",
   "execution_count": 25,
   "metadata": {},
   "outputs": [],
   "source": [
    "extract_data(\"Domains (Name.com)\")\n",
    "get_news_sites(\"Domains (Name.com).txt\",0)"
   ]
  },
  {
   "cell_type": "markdown",
   "metadata": {},
   "source": [
    "### \"Part15 PX2 Declaration WIllis GoDaddy.pdf\""
   ]
  },
  {
   "cell_type": "code",
   "execution_count": 23,
   "metadata": {},
   "outputs": [],
   "source": [
    "extract_data(\"Part15 PX2 Declaration WIllis GoDaddy\")\n",
    "get_news_sites(\"Part15 PX2 Declaration WIllis GoDaddy.txt\",1)"
   ]
  },
  {
   "cell_type": "markdown",
   "metadata": {},
   "source": [
    "# Task 2"
   ]
  },
  {
   "cell_type": "code",
   "execution_count": 2,
   "metadata": {},
   "outputs": [],
   "source": [
    "from bs4 import BeautifulSoup \n",
    "import requests\n",
    "import re\n",
    "import numpy as np\n",
    "from selenium import webdriver\n",
    "\n",
    "from selenium.webdriver.common.keys import Keys\n",
    "\n",
    "from selenium.webdriver.common.by import By\n",
    "\n",
    "import time"
   ]
  },
  {
   "cell_type": "code",
   "execution_count": 56,
   "metadata": {},
   "outputs": [],
   "source": [
    "driver = webdriver.Chrome(executable_path=\"/Users/rubinakabir/Documents/interview/chromedriver\")"
   ]
  },
  {
   "cell_type": "code",
   "execution_count": 185,
   "metadata": {},
   "outputs": [],
   "source": [
    "url = \"https://oehha.ca.gov/chemicals\"\n",
    "driver.get(url)"
   ]
  },
  {
   "cell_type": "code",
   "execution_count": 192,
   "metadata": {},
   "outputs": [],
   "source": [
    "count = 0\n",
    "chemical_df = pd.DataFrame(columns=[\"Chemical\",\"Url\"])\n",
    "c = 0\n",
    "while (True):\n",
    "    time.sleep(1)\n",
    "    try:\n",
    "        driver.get(url)\n",
    "    except:\n",
    "        print(url)\n",
    "        break\n",
    "    # Get element names and URLs\n",
    "    my_elemts_urls = driver.find_elements_by_xpath(\"//tbody\")[0].find_elements_by_xpath(\"//a[@href]\")\n",
    "    for element in my_elemts_urls:\n",
    "        chem_url = element.get_attribute(\"href\") \n",
    "        if \"?\" not in chem_url and \"#\" not in chem_url and \"csv\" not in chem_url and \"chemicals\" in chem_url:\n",
    "            chemical_df.loc[count] = [element.text,chem_url]\n",
    "            count = count + 1\n",
    "    xpath = \"//a[contains(@title,'Go to next page')]\"\n",
    "    try:\n",
    "        url = driver.find_elements_by_xpath(xpath)[0].get_attribute(\"href\") \n",
    "    except:\n",
    "        break"
   ]
  },
  {
   "cell_type": "code",
   "execution_count": 189,
   "metadata": {},
   "outputs": [],
   "source": [
    "chemical_urls = chemical_df[\"Url\"].values.tolist()\n",
    "count = 0\n",
    "all_dates = []\n",
    "all_uses = []\n",
    "for chem_url in chemical_urls:\n",
    "    time.sleep(1)\n",
    "    driver.get(chem_url)\n",
    "    ######## Get Dates #########\n",
    "    xpath = \"//tr[th//text()[contains(.,'Date of Listing')]]\"\n",
    "    dates = driver.find_elements_by_xpath(xpath)\n",
    "    chem_dates = []\n",
    "    for date in dates:\n",
    "        parse_date = date.text.rfind(\":\")\n",
    "        date = date.text[parse_date+2:].strip()\n",
    "        chem_dates.append(date)\n",
    "    all_dates.append(chem_dates)\n",
    "   ######## Get Uses #######\n",
    "    xpath = \"//div[contains(@class,group-left)]//p\"\n",
    "    try:\n",
    "        use = driver.find_elements_by_xpath(xpath)[1].text\n",
    "    except:\n",
    "        use = []\n",
    "    all_uses.append(use)\n",
    "chemical_df[\"Dates\"] = all_dates\n",
    "chemical_df[\"Uses\"] = all_uses"
   ]
  },
  {
   "cell_type": "code",
   "execution_count": 191,
   "metadata": {},
   "outputs": [],
   "source": [
    "chemical_df.to_csv(\"chemical_data.csv\")"
   ]
  },
  {
   "cell_type": "markdown",
   "metadata": {},
   "source": [
    "# Task 3"
   ]
  },
  {
   "cell_type": "code",
   "execution_count": 196,
   "metadata": {},
   "outputs": [],
   "source": [
    "data = pd.read_csv(\"2011_Transactions.csv\", encoding = \"ISO-8859-1\", engine='python')\n",
    "data = data[[\"machine_id\",\"site_session_id\",\"event_date\",\"event_time\",\n",
    "             \"prod_category_id\"]]\n",
    "#43 - flight\n",
    "#45- car\n",
    "#44 - hotel"
   ]
  },
  {
   "cell_type": "code",
   "execution_count": 197,
   "metadata": {},
   "outputs": [],
   "source": [
    "users = data.machine_id.unique()\n",
    "means_df = pd.DataFrame(columns=[\"total_trans_mean\",\"Flights Mean\",\"Rental Car Mean\",\"Hotel Mean\"])\n",
    "for user in users:\n",
    "    get_rows = list((data[\"machine_id\"] == user))\n",
    "    cat_43 = sum(data[get_rows][\"prod_category_id\"] == 43)/sum(get_rows)\n",
    "    cat_44 = sum(data[get_rows][\"prod_category_id\"] == 44)/sum(get_rows)\n",
    "    cat_45 = sum(data[get_rows][\"prod_category_id\"] == 45)/sum(get_rows)\n",
    "    means_df.loc[user,\"total_trans_mean\"] = sum(get_rows)/data.shape[0]\n",
    "    means_df.loc[user,\"Flights Mean\"] = cat_43\n",
    "    means_df.loc[user,\"Rental Car Mean\"] = cat_44\n",
    "    means_df.loc[user,\"Hotel Mean\"] = cat_45\n",
    "means_df.to_csv(\"task_3_means.csv\")"
   ]
  },
  {
   "cell_type": "code",
   "execution_count": 198,
   "metadata": {},
   "outputs": [],
   "source": [
    "condition = (data[\"prod_category_id\"] == 43) | (data[\"prod_category_id\"] == 44) |(data[\"prod_category_id\"] == 45)\n",
    "data = data.loc[condition]\n",
    "multi_trans = data[data.loc[condition].duplicated(['machine_id'],keep=False)]\n",
    "multi_trans = multi_trans.drop_duplicates()\n",
    "multi_trans.sort_values(\"machine_id\", ascending=True, inplace=False)\n",
    "multi_trans.head()\n",
    "users = multi_trans.machine_id.unique()"
   ]
  },
  {
   "cell_type": "markdown",
   "metadata": {},
   "source": [
    "#### extract hour and minute from time of event to document sequence"
   ]
  },
  {
   "cell_type": "code",
   "execution_count": 199,
   "metadata": {},
   "outputs": [],
   "source": [
    "for user in users:\n",
    "    get_rows = (multi_trans[\"machine_id\"] == user)\n",
    "    \n",
    "    get_trans_ind = list(multi_trans[get_rows].index)\n",
    "    \n",
    "    times = list(multi_trans[get_rows][\"event_time\"])\n",
    "    dates = multi_trans[get_rows][\"event_date\"]\n",
    "    \n",
    "    if len(get_trans_ind) == 1:\n",
    "        if type(times[0]) is float : continue\n",
    "        h = times[0].find(\":\")\n",
    "        m = times[0].rfind(\":\")\n",
    "        hour = int(times[0][0:h])\n",
    "        minute = int(times[0][h+1:m])\n",
    "        \n",
    "        multi_trans.loc[get_trans_ind,\"hour\"] = hour\n",
    "        multi_trans.loc[get_trans_ind,\"min\"] = minute\n",
    "        continue\n",
    "        \n",
    "    hours=[] \n",
    "    for ind, time in zip(get_trans_ind, times):\n",
    "        if type(time) is float : continue\n",
    "        h = time.find(\":\")\n",
    "        m = time.rfind(\":\")\n",
    "        hour = int(time[0:h])\n",
    "        minute = int(time[h+1:m])\n",
    "\n",
    "        multi_trans.loc[ind,\"hour\"] = hour\n",
    "        multi_trans.loc[ind,\"min\"] = minute"
   ]
  },
  {
   "cell_type": "markdown",
   "metadata": {},
   "source": [
    "#### Check which transactions are related"
   ]
  },
  {
   "cell_type": "code",
   "execution_count": 200,
   "metadata": {},
   "outputs": [],
   "source": [
    "category_df = pd.DataFrame(columns=[\"1st Puchase\",\"Second Purchase\",\"Third Purchase\",\"Fourth Purchase\"])\n",
    "for user in users:\n",
    "    get_rows = (multi_trans[\"machine_id\"] == user)\n",
    "    t = multi_trans.loc[get_rows]\n",
    "    cond = (t.groupby([\"event_date\"]).count() > 1)[\"machine_id\"]\n",
    "    dates = list(zip(cond,cond.index))\n",
    "    for customers_dates in dates:\n",
    "        if customers_dates[0]==True:\n",
    "            multiple = customers_dates[1]\n",
    "            get_trans = t[t[\"event_date\"] == multiple].sort_values(by=[\"hour\",\"min\"],ascending=[True,True])\n",
    "            # If no unique categories, don't analyze\n",
    "            if get_trans[\"prod_category_id\"].unique().shape[0] < 1:\n",
    "                continue\n",
    "            if get_trans[\"prod_category_id\"].unique().shape[0] < 4:\n",
    "                order = get_trans[\"prod_category_id\"].values\n",
    "                fix_array = np.array([np.nan]*(4-order.shape[0]))\n",
    "                category_df.loc[user] = np.append(order,fix_array)\n",
    "            else:\n",
    "                category_df.loc[user] = get_trans[\"prod_category_id\"].values\n",
    "        else:\n",
    "            continue\n"
   ]
  },
  {
   "cell_type": "code",
   "execution_count": 201,
   "metadata": {},
   "outputs": [],
   "source": [
    "first = category_df[\"1st Puchase\"].value_counts()\n",
    "second = category_df[\"Second Purchase\"].value_counts()\n",
    "third = category_df[\"Third Purchase\"].value_counts()\n",
    "fourth = category_df[\"Fourth Purchase\"].value_counts()"
   ]
  },
  {
   "cell_type": "code",
   "execution_count": 215,
   "metadata": {},
   "outputs": [
    {
     "data": {
      "text/plain": [
       "<matplotlib.axes._subplots.AxesSubplot at 0x11021a588>"
      ]
     },
     "execution_count": 215,
     "metadata": {},
     "output_type": "execute_result"
    },
    {
     "data": {
      "text/plain": [
       "<Figure size 1440x720 with 0 Axes>"
      ]
     },
     "metadata": {},
     "output_type": "display_data"
    },
    {
     "data": {
      "image/png": "[encoded data removed]",
      "text/plain": [
       "<Figure size 720x720 with 1 Axes>"
      ]
     },
     "metadata": {
      "needs_background": "light"
     },
     "output_type": "display_data"
    }
   ],
   "source": [
    "final = pd.DataFrame([first,second,third,fourth])\n",
    "final.columns = [\"Flight\",\"Car\",\"Hotel\"]\n",
    "final.to_csv(\"related_transactions_summary.csv\")\n",
    "final.plot.bar(figsize=(10,10))"
   ]
  }
 ],
 "metadata": {
  "kernelspec": {
   "display_name": "Python 3",
   "language": "python",
   "name": "python3"
  },
  "language_info": {
   "codemirror_mode": {
    "name": "ipython",
    "version": 3
   },
   "file_extension": ".py",
   "mimetype": "text/x-python",
   "name": "python",
   "nbconvert_exporter": "python",
   "pygments_lexer": "ipython3",
   "version": "3.6.8"
  }
 },
 "nbformat": 4,
 "nbformat_minor": 2
}
